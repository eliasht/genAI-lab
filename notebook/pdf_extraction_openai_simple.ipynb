{
  "cells": [
    {
      "cell_type": "markdown",
      "metadata": {},
      "source": [
        "# PDF Extraction dengan OpenAI API\n",
        "\n",
        "Notebook ini menunjukkan cara mengekstrak konten PDF menggunakan OpenAI API secara native."
      ]
    },
    {
      "cell_type": "markdown",
      "metadata": {},
      "source": [
        "## 1. Install Dependencies"
      ]
    },
    {
      "cell_type": "code",
      "execution_count": null,
      "metadata": {},
      "outputs": [],
      "source": [
        "# Install required packages\n",
        "import subprocess\n",
        "import sys\n",
        "\n",
        "packages = [\"openai\", \"PyPDF2\", \"python-dotenv\"]\n",
        "for package in packages:\n",
        "    try:\n",
        "        __import__(package)\n",
        "    except ImportError:\n",
        "        print(f\"Installing {package}...\")\n",
        "        subprocess.check_call([sys.executable, \"-m\", \"pip\", \"install\", package])"
      ]
    },
    {
      "cell_type": "markdown",
      "metadata": {},
      "source": [
        "## 2. Import Libraries"
      ]
    },
    {
      "cell_type": "code",
      "execution_count": null,
      "metadata": {},
      "outputs": [],
      "source": [
        "import os\n",
        "import json\n",
        "from openai import OpenAI\n",
        "import PyPDF2\n",
        "from dotenv import load_dotenv\n",
        "\n",
        "# Load environment variables\n",
        "load_dotenv()\n",
        "\n",
        "# Initialize OpenAI client\n",
        "client = OpenAI(api_key=os.getenv('OPENAI_API_KEY'))\n",
        "\n",
        "print(\"Setup complete!\")"
      ]
    },
    {
      "cell_type": "markdown",
      "metadata": {},
      "source": [
        "## 3. PDF Reader Function"
      ]
    },
    {
      "cell_type": "code",
      "execution_count": null,
      "metadata": {},
      "outputs": [],
      "source": [
        "def read_pdf(file_path):\n",
        "    \"\"\"Read PDF file and return text content\"\"\"\n",
        "    try:\n",
        "        with open(file_path, 'rb') as file:\n",
        "            pdf_reader = PyPDF2.PdfReader(file)\n",
        "            \n",
        "            text = \"\"\n",
        "            for page in pdf_reader.pages:\n",
        "                text += page.extract_text() + \"\\n\\n\"\n",
        "            \n",
        "            return text.strip()\n",
        "    except Exception as e:\n",
        "        print(f\"Error reading PDF: {e}\")\n",
        "        return None"
      ]
    },
    {
      "cell_type": "markdown",
      "metadata": {},
      "source": [
        "## 4. OpenAI Extraction Function"
      ]
    },
    {
      "cell_type": "code",
      "execution_count": null,
      "metadata": {},
      "outputs": [],
      "source": [
        "def extract_with_openai(text):\n",
        "    \"\"\"Extract information from text using OpenAI\"\"\"\n",
        "    prompt = f\"\"\"\n",
        "    Analisis teks berikut dari dokumen PDF dan ekstrak informasi berikut:\n",
        "    \n",
        "    1. Judul dokumen\n",
        "    2. Ringkasan isi (maksimal 100 kata)\n",
        "    3. Topik utama\n",
        "    4. Tanggal yang disebutkan\n",
        "    5. Nama-nama penting\n",
        "    6. Angka penting\n",
        "    7. Kategori dokumen\n",
        "    8. Kata kunci utama (5 kata)\n",
        "    \n",
        "    Format JSON:\n",
        "    {{\n",
        "        \"title\": \"...\",\n",
        "        \"summary\": \"...\",\n",
        "        \"main_topic\": \"...\",\n",
        "        \"dates\": [...],\n",
        "        \"important_names\": [...],\n",
        "        \"important_numbers\": [...],\n",
        "        \"document_type\": \"...\",\n",
        "        \"keywords\": [...]\n",
        "    }}\n",
        "    \n",
        "    Teks: {text[:3000]}...\n",
        "    \"\"\"\n",
        "    \n",
        "    try:\n",
        "        response = client.chat.completions.create(\n",
        "            model=\"gpt-3.5-turbo\",\n",
        "            messages=[\n",
        "                {\"role\": \"system\", \"content\": \"Anda adalah asisten ahli dalam analisis dokumen.\"},\n",
        "                {\"role\": \"user\", \"content\": prompt}\n",
        "            ],\n",
        "            temperature=0.3,\n",
        "            max_tokens=1000\n",
        "        )\n",
        "        \n",
        "        content = response.choices[0].message.content\n",
        "        return json.loads(content)\n",
        "        \n",
        "    except Exception as e:\n",
        "        return {\"error\": str(e)}"
      ]
    },
    {
      "cell_type": "markdown",
      "metadata": {},
      "source": [
        "## 5. Create Sample PDF"
      ]
    },
    {
      "cell_type": "code",
      "execution_count": null,
      "metadata": {},
      "outputs": [],
      "source": [
        "# Create sample PDF for testing\n",
        "from reportlab.pdfgen import canvas\n",
        "from reportlab.lib.pagesizes import letter\n",
        "\n",
        "def create_sample_pdf():\n",
        "    \"\"\"Create a sample PDF file\"\"\"\n",
        "    try:\n",
        "        from reportlab.pdfgen import canvas\n",
        "    except ImportError:\n",
        "        import subprocess\n",
        "        subprocess.check_call([sys.executable, \"-m\", \"pip\", \"install\", \"reportlab\"])\n",
        "        from reportlab.pdfgen import canvas\n",
        "    \n",
        "    c = canvas.Canvas(\"sample_report.pdf\", pagesize=letter)\n",
        "    c.setFont(\"Helvetica-Bold\", 16)\n",
        "    c.drawString(100, 700, \"Laporan Keuangan Triwulanan\")\n",
        "    c.setFont(\"Helvetica\", 12)\n",
        "    c.drawString(100, 680, \"PT Teknologi Maju Sejahtera\")\n",
        "    c.drawString(100, 660, \"Periode: Januari - Maret 2024\")\n",
        "    \n",
        "    content = [\n",
        "        \"Ringkasan Eksekutif:\",\n",
        "        \"Perusahaan mencatat pertumbuhan revenue sebesar 25%\",\n",
        "        \"dengan total revenue mencapai Rp 15,7 miliar.\",\n",
        "        \"Net profit: Rp 2,8 miliar\",\n",
        "        \"Jumlah pelanggan: 1.250 aktif\",\n",
        "        \"Direktur: Budi Santoso\",\n",
        "        \"Tanggal: 15 April 2024\"\n",
        "    ]\n",
        "    \n",
        "    y = 620\n",
        "    for line in content:\n",
        "        c.drawString(100, y, line)\n",
        "        y -= 20\n",
        "    \n",
        "    c.save()\n",
        "    return \"sample_report.pdf\"\n",
        "\n",
        "sample_pdf = create_sample_pdf()\n",
        "print(f\"Created: {sample_pdf}\")"
      ]
    },
    {
      "cell_type": "markdown",
      "metadata": {},
      "source": [
        "## 6. Demo Eksekusi"
      ]
    },
    {
      "cell_type": "code",
      "execution_count": null,
      "metadata": {},
      "outputs": [],
      "source": [
        "# Check API key\n",
        "if not os.getenv('OPENAI_API_KEY'):\n",
        "    print(\"Please set OPENAI_API_KEY in .env file\")\n",
        "else:\n",
        "    # Read PDF\n",
        "    text = read_pdf(sample_pdf)\n",
        "    if text:\n",
        "        print(f\"ext length: {len(text)} characters\")\n",
        "        \n",
        "        # Extract information\n",
        "        result = extract_with_openai(text)\n",
        "        \n",
        "        # Display results\n",
        "        print(\"\\nEXTRACTION RESULTS:\")\n",
        "        print(json.dumps(result, indent=2, ensure_ascii=False))\n",
        "        \n",
        "        # Save to file\n",
        "        with open('extraction_result.json', 'w', encoding='utf-8') as f:\n",
        "            json.dump(result, f, indent=2, ensure_ascii=False)\n",
        "        print(\"Saved to extraction_result.json\")"
      ]
    },
    {
      "cell_type": "markdown",
      "metadata": {},
      "source": [
        "## 7. Usage Instructions"
      ]
    },
    {
      "cell_type": "markdown",
      "metadata": {},
      "source": [
        "### Setup\n",
        "1. Buat file `.env` dengan konten:\n",
        "   ```\n",
        "   OPENAI_API_KEY=your_actual_api_key_here\n",
        "   ```\n",
        "\n",
        "### Basic Usage\n",
        "```python\n",
        "text = read_pdf(\"your_file.pdf\")\n",
        "result = extract_with_openai(text)\n",
        "```\n",
        "\n",
        "### Available Models\n",
        "- `gpt-3.5-turbo` (default)\n",
        "- `gpt-4` (more accurate, higher cost)"
      ]
    }
  ],
  "metadata": {
    "kernelspec": {
      "display_name": "myenv",
      "language": "python",
      "name": "python3"
    },
    "language_info": {
      "codemirror_mode": {
        "name": "ipython",
        "version": 3
      },
      "file_extension": ".py",
      "mimetype": "text/x-python",
      "name": "python",
      "nbconvert_exporter": "python",
      "pygments_lexer": "ipython3",
      "version": "3.12.3"
    }
  },
  "nbformat": 4,
  "nbformat_minor": 4
}
